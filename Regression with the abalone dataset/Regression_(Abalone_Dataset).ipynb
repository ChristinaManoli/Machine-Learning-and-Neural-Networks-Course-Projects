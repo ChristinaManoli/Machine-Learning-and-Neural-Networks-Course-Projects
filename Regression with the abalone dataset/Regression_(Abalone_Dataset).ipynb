{
  "nbformat": 4,
  "nbformat_minor": 0,
  "metadata": {
    "colab": {
      "provenance": []
    },
    "kernelspec": {
      "name": "python3",
      "display_name": "Python 3"
    },
    "language_info": {
      "name": "python"
    }
  },
  "cells": [
    {
      "cell_type": "markdown",
      "metadata": {
        "id": "IcDdP8EZj08L"
      },
      "source": [
        "#Εργασία 1: **Παλινδρόμηση στο Abalone Dataset**\n",
        "\n",
        "\n",
        "> *Για την παρακάτω εργασια εχω δουλεψει σε Google Colab.*\n",
        "\n"
      ]
    },
    {
      "cell_type": "code",
      "metadata": {
        "id": "8SRay6l30g3g"
      },
      "source": [
        "#Import the basic packages (we will import some more below)\n",
        "from sklearn import datasets # Library for machine learning\n",
        "import numpy as np # Library for math and arrays\n",
        "np.set_printoptions(precision=3) # Tell numpy to print float numbers with 3-decimal precision\n",
        "import matplotlib.pyplot as plt # Library for graphs and plots\n",
        "from IPython.display import display, Markdown"
      ],
      "execution_count": null,
      "outputs": []
    },
    {
      "cell_type": "markdown",
      "metadata": {
        "id": "aGuF50UZ1eov"
      },
      "source": [
        "#**1. Άνοιγμα αρχείου και προεργασία**\n",
        "\n",
        "##Φόρτωση της Abalone Data Set\n",
        "\n"
      ]
    },
    {
      "cell_type": "code",
      "metadata": {
        "id": "wspw1Jvx1hab",
        "colab": {
          "resources": {
            "http://localhost:8080/nbextensions/google.colab/files.js": {
              "data": "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",
              "ok": true,
              "headers": [
                [
                  "content-type",
                  "application/javascript"
                ]
              ],
              "status": 200,
              "status_text": ""
            }
          },
          "base_uri": "https://localhost:8080/",
          "height": 401
        },
        "outputId": "3addbd09-cf1a-4487-9c42-221c9803777a"
      },
      "source": [
        "#It will prompt you to select a file. Select and upload the file \"abalone.data\".\n",
        "#You should be able to see the name of the file once Colab has uploaded it.\n",
        "from google.colab import files\n",
        "uploaded = files.upload()\n",
        "\n",
        "#χρησιμοποιούμε τη βιβλιοθήκη csv για να χωρίσουμε τα στοιχεία του αρχείου \n",
        "#και να δημιουργήσουμε έτσι μια λίστα, κάθε στοιχείο της οποίας είναι επίσης λίστα, και αντιστοιχεί σε μια γραμμή/αντικείμενο\n",
        "import csv\n",
        "results = []\n",
        "with open('abalone.data') as myfile:\n",
        "  data = csv.reader(myfile, delimiter=',')\n",
        "  for dataline in data:\n",
        "    results.append(dataline)\n",
        "print(results)\n",
        " \n",
        "\n"
      ],
      "execution_count": null,
      "outputs": [
        {
          "output_type": "display_data",
          "data": {
            "text/html": [
              "\n",
              "     <input type=\"file\" id=\"files-7a6c9a18-94ea-4425-a05a-3dcfb8f77b01\" name=\"files[]\" multiple disabled\n",
              "        style=\"border:none\" />\n",
              "     <output id=\"result-7a6c9a18-94ea-4425-a05a-3dcfb8f77b01\">\n",
              "      Upload widget is only available when the cell has been executed in the\n",
              "      current browser session. Please rerun this cell to enable.\n",
              "      </output>\n",
              "      <script src=\"/nbextensions/google.colab/files.js\"></script> "
            ],
            "text/plain": [
              "<IPython.core.display.HTML object>"
            ]
          },
          "metadata": {}
        },
        {
          "output_type": "error",
          "ename": "KeyboardInterrupt",
          "evalue": "ignored",
          "traceback": [
            "\u001b[0;31m---------------------------------------------------------------------------\u001b[0m",
            "\u001b[0;31mKeyboardInterrupt\u001b[0m                         Traceback (most recent call last)",
            "\u001b[0;32m<ipython-input-1-faeb5abad807>\u001b[0m in \u001b[0;36m<module>\u001b[0;34m()\u001b[0m\n\u001b[1;32m      2\u001b[0m \u001b[0;31m#You should be able to see the name of the file once Colab has uploaded it.\u001b[0m\u001b[0;34m\u001b[0m\u001b[0;34m\u001b[0m\u001b[0;34m\u001b[0m\u001b[0m\n\u001b[1;32m      3\u001b[0m \u001b[0;32mfrom\u001b[0m \u001b[0mgoogle\u001b[0m\u001b[0;34m.\u001b[0m\u001b[0mcolab\u001b[0m \u001b[0;32mimport\u001b[0m \u001b[0mfiles\u001b[0m\u001b[0;34m\u001b[0m\u001b[0;34m\u001b[0m\u001b[0m\n\u001b[0;32m----> 4\u001b[0;31m \u001b[0muploaded\u001b[0m \u001b[0;34m=\u001b[0m \u001b[0mfiles\u001b[0m\u001b[0;34m.\u001b[0m\u001b[0mupload\u001b[0m\u001b[0;34m(\u001b[0m\u001b[0;34m)\u001b[0m\u001b[0;34m\u001b[0m\u001b[0;34m\u001b[0m\u001b[0m\n\u001b[0m\u001b[1;32m      5\u001b[0m \u001b[0;34m\u001b[0m\u001b[0m\n\u001b[1;32m      6\u001b[0m \u001b[0;31m#χρησιμοποιούμε τη βιβλιοθήκη csv για να χωρίσουμε τα στοιχεία του αρχείου\u001b[0m\u001b[0;34m\u001b[0m\u001b[0;34m\u001b[0m\u001b[0;34m\u001b[0m\u001b[0m\n",
            "\u001b[0;32m/usr/local/lib/python3.7/dist-packages/google/colab/files.py\u001b[0m in \u001b[0;36mupload\u001b[0;34m()\u001b[0m\n\u001b[1;32m     61\u001b[0m   result = _output.eval_js(\n\u001b[1;32m     62\u001b[0m       'google.colab._files._uploadFiles(\"{input_id}\", \"{output_id}\")'.format(\n\u001b[0;32m---> 63\u001b[0;31m           input_id=input_id, output_id=output_id))\n\u001b[0m\u001b[1;32m     64\u001b[0m   \u001b[0mfiles\u001b[0m \u001b[0;34m=\u001b[0m \u001b[0m_collections\u001b[0m\u001b[0;34m.\u001b[0m\u001b[0mdefaultdict\u001b[0m\u001b[0;34m(\u001b[0m\u001b[0m_six\u001b[0m\u001b[0;34m.\u001b[0m\u001b[0mbinary_type\u001b[0m\u001b[0;34m)\u001b[0m\u001b[0;34m\u001b[0m\u001b[0;34m\u001b[0m\u001b[0m\n\u001b[1;32m     65\u001b[0m   \u001b[0;31m# Mapping from original filename to filename as saved locally.\u001b[0m\u001b[0;34m\u001b[0m\u001b[0;34m\u001b[0m\u001b[0;34m\u001b[0m\u001b[0m\n",
            "\u001b[0;32m/usr/local/lib/python3.7/dist-packages/google/colab/output/_js.py\u001b[0m in \u001b[0;36meval_js\u001b[0;34m(script, ignore_result, timeout_sec)\u001b[0m\n\u001b[1;32m     38\u001b[0m   \u001b[0;32mif\u001b[0m \u001b[0mignore_result\u001b[0m\u001b[0;34m:\u001b[0m\u001b[0;34m\u001b[0m\u001b[0;34m\u001b[0m\u001b[0m\n\u001b[1;32m     39\u001b[0m     \u001b[0;32mreturn\u001b[0m\u001b[0;34m\u001b[0m\u001b[0;34m\u001b[0m\u001b[0m\n\u001b[0;32m---> 40\u001b[0;31m   \u001b[0;32mreturn\u001b[0m \u001b[0m_message\u001b[0m\u001b[0;34m.\u001b[0m\u001b[0mread_reply_from_input\u001b[0m\u001b[0;34m(\u001b[0m\u001b[0mrequest_id\u001b[0m\u001b[0;34m,\u001b[0m \u001b[0mtimeout_sec\u001b[0m\u001b[0;34m)\u001b[0m\u001b[0;34m\u001b[0m\u001b[0;34m\u001b[0m\u001b[0m\n\u001b[0m\u001b[1;32m     41\u001b[0m \u001b[0;34m\u001b[0m\u001b[0m\n\u001b[1;32m     42\u001b[0m \u001b[0;34m\u001b[0m\u001b[0m\n",
            "\u001b[0;32m/usr/local/lib/python3.7/dist-packages/google/colab/_message.py\u001b[0m in \u001b[0;36mread_reply_from_input\u001b[0;34m(message_id, timeout_sec)\u001b[0m\n\u001b[1;32m     99\u001b[0m     \u001b[0mreply\u001b[0m \u001b[0;34m=\u001b[0m \u001b[0m_read_next_input_message\u001b[0m\u001b[0;34m(\u001b[0m\u001b[0;34m)\u001b[0m\u001b[0;34m\u001b[0m\u001b[0;34m\u001b[0m\u001b[0m\n\u001b[1;32m    100\u001b[0m     \u001b[0;32mif\u001b[0m \u001b[0mreply\u001b[0m \u001b[0;34m==\u001b[0m \u001b[0m_NOT_READY\u001b[0m \u001b[0;32mor\u001b[0m \u001b[0;32mnot\u001b[0m \u001b[0misinstance\u001b[0m\u001b[0;34m(\u001b[0m\u001b[0mreply\u001b[0m\u001b[0;34m,\u001b[0m \u001b[0mdict\u001b[0m\u001b[0;34m)\u001b[0m\u001b[0;34m:\u001b[0m\u001b[0;34m\u001b[0m\u001b[0;34m\u001b[0m\u001b[0m\n\u001b[0;32m--> 101\u001b[0;31m       \u001b[0mtime\u001b[0m\u001b[0;34m.\u001b[0m\u001b[0msleep\u001b[0m\u001b[0;34m(\u001b[0m\u001b[0;36m0.025\u001b[0m\u001b[0;34m)\u001b[0m\u001b[0;34m\u001b[0m\u001b[0;34m\u001b[0m\u001b[0m\n\u001b[0m\u001b[1;32m    102\u001b[0m       \u001b[0;32mcontinue\u001b[0m\u001b[0;34m\u001b[0m\u001b[0;34m\u001b[0m\u001b[0m\n\u001b[1;32m    103\u001b[0m     if (reply.get('type') == 'colab_reply' and\n",
            "\u001b[0;31mKeyboardInterrupt\u001b[0m: "
          ]
        }
      ]
    },
    {
      "cell_type": "markdown",
      "metadata": {
        "id": "Cnaql525UD4c"
      },
      "source": [
        "## Δημιουργία Χ και Υ πινάκων χρησιμοποιωντας slicing\n"
      ]
    },
    {
      "cell_type": "code",
      "metadata": {
        "id": "pHxh3Q-sT6GE",
        "colab": {
          "base_uri": "https://localhost:8080/",
          "height": 520
        },
        "outputId": "f7355049-c3f1-4090-c352-cfa638fc350e"
      },
      "source": [
        "myArray = np.array(results)\n",
        "Abalone_X, Abalone_Y = myArray[:, 1:8], myArray[:, np.newaxis, -1]\n",
        "\n",
        "Abalone_X = Abalone_X.astype(float)\n",
        "Abalone_Y = Abalone_Y.astype(float)\n",
        "\n",
        "import pandas as pd\n",
        "df = pd.DataFrame(data= np.c_[Abalone_X , Abalone_Y], columns=['Length', 'Diameter', 'Height', 'Whole weight', 'Shucked weight', 'Viscera weight', 'Shell weight', 'Target'])\n",
        "df.head(15)\n"
      ],
      "execution_count": null,
      "outputs": [
        {
          "output_type": "execute_result",
          "data": {
            "text/html": [
              "<div>\n",
              "<style scoped>\n",
              "    .dataframe tbody tr th:only-of-type {\n",
              "        vertical-align: middle;\n",
              "    }\n",
              "\n",
              "    .dataframe tbody tr th {\n",
              "        vertical-align: top;\n",
              "    }\n",
              "\n",
              "    .dataframe thead th {\n",
              "        text-align: right;\n",
              "    }\n",
              "</style>\n",
              "<table border=\"1\" class=\"dataframe\">\n",
              "  <thead>\n",
              "    <tr style=\"text-align: right;\">\n",
              "      <th></th>\n",
              "      <th>Length</th>\n",
              "      <th>Diameter</th>\n",
              "      <th>Height</th>\n",
              "      <th>Whole weight</th>\n",
              "      <th>Shucked weight</th>\n",
              "      <th>Viscera weight</th>\n",
              "      <th>Shell weight</th>\n",
              "      <th>Target</th>\n",
              "    </tr>\n",
              "  </thead>\n",
              "  <tbody>\n",
              "    <tr>\n",
              "      <th>0</th>\n",
              "      <td>0.455</td>\n",
              "      <td>0.365</td>\n",
              "      <td>0.095</td>\n",
              "      <td>0.5140</td>\n",
              "      <td>0.2245</td>\n",
              "      <td>0.1010</td>\n",
              "      <td>0.150</td>\n",
              "      <td>15.0</td>\n",
              "    </tr>\n",
              "    <tr>\n",
              "      <th>1</th>\n",
              "      <td>0.350</td>\n",
              "      <td>0.265</td>\n",
              "      <td>0.090</td>\n",
              "      <td>0.2255</td>\n",
              "      <td>0.0995</td>\n",
              "      <td>0.0485</td>\n",
              "      <td>0.070</td>\n",
              "      <td>7.0</td>\n",
              "    </tr>\n",
              "    <tr>\n",
              "      <th>2</th>\n",
              "      <td>0.530</td>\n",
              "      <td>0.420</td>\n",
              "      <td>0.135</td>\n",
              "      <td>0.6770</td>\n",
              "      <td>0.2565</td>\n",
              "      <td>0.1415</td>\n",
              "      <td>0.210</td>\n",
              "      <td>9.0</td>\n",
              "    </tr>\n",
              "    <tr>\n",
              "      <th>3</th>\n",
              "      <td>0.440</td>\n",
              "      <td>0.365</td>\n",
              "      <td>0.125</td>\n",
              "      <td>0.5160</td>\n",
              "      <td>0.2155</td>\n",
              "      <td>0.1140</td>\n",
              "      <td>0.155</td>\n",
              "      <td>10.0</td>\n",
              "    </tr>\n",
              "    <tr>\n",
              "      <th>4</th>\n",
              "      <td>0.330</td>\n",
              "      <td>0.255</td>\n",
              "      <td>0.080</td>\n",
              "      <td>0.2050</td>\n",
              "      <td>0.0895</td>\n",
              "      <td>0.0395</td>\n",
              "      <td>0.055</td>\n",
              "      <td>7.0</td>\n",
              "    </tr>\n",
              "    <tr>\n",
              "      <th>5</th>\n",
              "      <td>0.425</td>\n",
              "      <td>0.300</td>\n",
              "      <td>0.095</td>\n",
              "      <td>0.3515</td>\n",
              "      <td>0.1410</td>\n",
              "      <td>0.0775</td>\n",
              "      <td>0.120</td>\n",
              "      <td>8.0</td>\n",
              "    </tr>\n",
              "    <tr>\n",
              "      <th>6</th>\n",
              "      <td>0.530</td>\n",
              "      <td>0.415</td>\n",
              "      <td>0.150</td>\n",
              "      <td>0.7775</td>\n",
              "      <td>0.2370</td>\n",
              "      <td>0.1415</td>\n",
              "      <td>0.330</td>\n",
              "      <td>20.0</td>\n",
              "    </tr>\n",
              "    <tr>\n",
              "      <th>7</th>\n",
              "      <td>0.545</td>\n",
              "      <td>0.425</td>\n",
              "      <td>0.125</td>\n",
              "      <td>0.7680</td>\n",
              "      <td>0.2940</td>\n",
              "      <td>0.1495</td>\n",
              "      <td>0.260</td>\n",
              "      <td>16.0</td>\n",
              "    </tr>\n",
              "    <tr>\n",
              "      <th>8</th>\n",
              "      <td>0.475</td>\n",
              "      <td>0.370</td>\n",
              "      <td>0.125</td>\n",
              "      <td>0.5095</td>\n",
              "      <td>0.2165</td>\n",
              "      <td>0.1125</td>\n",
              "      <td>0.165</td>\n",
              "      <td>9.0</td>\n",
              "    </tr>\n",
              "    <tr>\n",
              "      <th>9</th>\n",
              "      <td>0.550</td>\n",
              "      <td>0.440</td>\n",
              "      <td>0.150</td>\n",
              "      <td>0.8945</td>\n",
              "      <td>0.3145</td>\n",
              "      <td>0.1510</td>\n",
              "      <td>0.320</td>\n",
              "      <td>19.0</td>\n",
              "    </tr>\n",
              "    <tr>\n",
              "      <th>10</th>\n",
              "      <td>0.525</td>\n",
              "      <td>0.380</td>\n",
              "      <td>0.140</td>\n",
              "      <td>0.6065</td>\n",
              "      <td>0.1940</td>\n",
              "      <td>0.1475</td>\n",
              "      <td>0.210</td>\n",
              "      <td>14.0</td>\n",
              "    </tr>\n",
              "    <tr>\n",
              "      <th>11</th>\n",
              "      <td>0.430</td>\n",
              "      <td>0.350</td>\n",
              "      <td>0.110</td>\n",
              "      <td>0.4060</td>\n",
              "      <td>0.1675</td>\n",
              "      <td>0.0810</td>\n",
              "      <td>0.135</td>\n",
              "      <td>10.0</td>\n",
              "    </tr>\n",
              "    <tr>\n",
              "      <th>12</th>\n",
              "      <td>0.490</td>\n",
              "      <td>0.380</td>\n",
              "      <td>0.135</td>\n",
              "      <td>0.5415</td>\n",
              "      <td>0.2175</td>\n",
              "      <td>0.0950</td>\n",
              "      <td>0.190</td>\n",
              "      <td>11.0</td>\n",
              "    </tr>\n",
              "    <tr>\n",
              "      <th>13</th>\n",
              "      <td>0.535</td>\n",
              "      <td>0.405</td>\n",
              "      <td>0.145</td>\n",
              "      <td>0.6845</td>\n",
              "      <td>0.2725</td>\n",
              "      <td>0.1710</td>\n",
              "      <td>0.205</td>\n",
              "      <td>10.0</td>\n",
              "    </tr>\n",
              "    <tr>\n",
              "      <th>14</th>\n",
              "      <td>0.470</td>\n",
              "      <td>0.355</td>\n",
              "      <td>0.100</td>\n",
              "      <td>0.4755</td>\n",
              "      <td>0.1675</td>\n",
              "      <td>0.0805</td>\n",
              "      <td>0.185</td>\n",
              "      <td>10.0</td>\n",
              "    </tr>\n",
              "  </tbody>\n",
              "</table>\n",
              "</div>"
            ],
            "text/plain": [
              "    Length  Diameter  Height  ...  Viscera weight  Shell weight  Target\n",
              "0    0.455     0.365   0.095  ...          0.1010         0.150    15.0\n",
              "1    0.350     0.265   0.090  ...          0.0485         0.070     7.0\n",
              "2    0.530     0.420   0.135  ...          0.1415         0.210     9.0\n",
              "3    0.440     0.365   0.125  ...          0.1140         0.155    10.0\n",
              "4    0.330     0.255   0.080  ...          0.0395         0.055     7.0\n",
              "5    0.425     0.300   0.095  ...          0.0775         0.120     8.0\n",
              "6    0.530     0.415   0.150  ...          0.1415         0.330    20.0\n",
              "7    0.545     0.425   0.125  ...          0.1495         0.260    16.0\n",
              "8    0.475     0.370   0.125  ...          0.1125         0.165     9.0\n",
              "9    0.550     0.440   0.150  ...          0.1510         0.320    19.0\n",
              "10   0.525     0.380   0.140  ...          0.1475         0.210    14.0\n",
              "11   0.430     0.350   0.110  ...          0.0810         0.135    10.0\n",
              "12   0.490     0.380   0.135  ...          0.0950         0.190    11.0\n",
              "13   0.535     0.405   0.145  ...          0.1710         0.205    10.0\n",
              "14   0.470     0.355   0.100  ...          0.0805         0.185    10.0\n",
              "\n",
              "[15 rows x 8 columns]"
            ]
          },
          "metadata": {},
          "execution_count": 3
        }
      ]
    },
    {
      "cell_type": "markdown",
      "metadata": {
        "id": "PM2e26A-a1jr"
      },
      "source": [
        "## Παρουσίαση των χαρακτηριστικων του dataset όπως προκύπτουν από τους πίνακες X και Υ:\n",
        "Πλήθος αντικειμένων, πλήθος μεταβλητών, εύρος τιμών του y\n",
        "\n",
        "\n"
      ]
    },
    {
      "cell_type": "code",
      "metadata": {
        "id": "acn6avY6a00A",
        "colab": {
          "base_uri": "https://localhost:8080/",
          "height": 81
        },
        "outputId": "81185701-9c74-43b7-ca8f-a50bee0c6388"
      },
      "source": [
        "display(Markdown(\n",
        "    \"**Πλήθος αντικειμένων, Πλήθος μεταβλητών του Χ**: \" + str(np.shape(Abalone_X)) + \"<br>\" +\n",
        "    \"**Πλήθος αντικειμένων, Πλήθος μεταβλητών του Υ**: \"+ str(np.shape(Abalone_Y)) + \"<br>\" +\n",
        "    \"**Εύρος τιμών του Υ** : \" + str(np.max(Abalone_Y) - np.min(Abalone_Y))\n",
        "    ))"
      ],
      "execution_count": null,
      "outputs": [
        {
          "output_type": "display_data",
          "data": {
            "text/markdown": "**Πλήθος αντικειμένων, Πλήθος μεταβλητών του Χ**: (4177, 7)<br>**Πλήθος αντικειμένων, Πλήθος μεταβλητών του Υ**: (4177, 1)<br>**Εύρος τιμών του Υ** : 28.0",
            "text/plain": [
              "<IPython.core.display.Markdown object>"
            ]
          },
          "metadata": {}
        }
      ]
    },
    {
      "cell_type": "markdown",
      "metadata": {
        "id": "ddg-6T_PBDTh"
      },
      "source": [
        "## Εκτύπωση του μέσου και της τυπικής απόκλισης της κάθε μεταβλητής."
      ]
    },
    {
      "cell_type": "code",
      "metadata": {
        "id": "KOnf0oQhBIAh",
        "colab": {
          "base_uri": "https://localhost:8080/",
          "height": 98
        },
        "outputId": "be44536c-c600-4c63-fcd4-cf962a5cb5ea"
      },
      "source": [
        "display(Markdown(\n",
        "    \"**Το Μέσο της κάθε μεταβλητης από τον πίνακα X** : \" + str(np.mean(Abalone_X, axis=0))  + \"<br>\" +\n",
        "    \"**Το Μέσο της κάθε μεταβλητης από τον πίνακα Y** : \" + str(np.mean(Abalone_Y, axis=0))  + \"<br>\" +\n",
        "    \"**Η Τυπική Απόκλιση της κάθε μεταβλητης από τον πίνακα Χ** : \" + str(np.std(Abalone_X,0))  + \"<br>\" +\n",
        "    \"**Η Τυπική Απόκλιση της κάθε μεταβλητης από τον πίνακα Y** : \" + str(np.std(Abalone_Y,0))\n",
        "))"
      ],
      "execution_count": null,
      "outputs": [
        {
          "output_type": "display_data",
          "data": {
            "text/markdown": "**Το Μέσο της κάθε μεταβλητης από τον πίνακα X** : [0.524 0.408 0.14  0.829 0.359 0.181 0.239]<br>**Το Μέσο της κάθε μεταβλητης από τον πίνακα Y** : [9.934]<br>**Η Τυπική Απόκλιση της κάθε μεταβλητης από τον πίνακα Χ** : [0.12  0.099 0.042 0.49  0.222 0.11  0.139]<br>**Η Τυπική Απόκλιση της κάθε μεταβλητης από τον πίνακα Y** : [3.224]",
            "text/plain": [
              "<IPython.core.display.Markdown object>"
            ]
          },
          "metadata": {}
        }
      ]
    },
    {
      "cell_type": "markdown",
      "metadata": {
        "id": "KXbUVSc7dtF8"
      },
      "source": [
        "##Χωρίζω τα δεδομένα σε training set και test set με seed=5"
      ]
    },
    {
      "cell_type": "code",
      "metadata": {
        "id": "zmDERsmjdrfM"
      },
      "source": [
        "# Split the data randomly (stratified) with a random seed\n",
        "from sklearn.model_selection import train_test_split\n",
        "X_train, X_test, y_train, y_test = train_test_split(\n",
        "    Abalone_X, Abalone_Y, test_size=0.1, random_state=5)\n",
        "\n"
      ],
      "execution_count": null,
      "outputs": []
    },
    {
      "cell_type": "markdown",
      "metadata": {
        "id": "mQwueuozAWMj"
      },
      "source": [
        "##***Normalization***\n",
        "\n",
        "*The goal of normalization is to to make all the elements lie between 0 and 1 thus bringing all the values of numeric columns in the dataset to a common scale. The Abalone Data Set in my opinion does not require normalization because the mean of the training set is already between 0 and 1.*"
      ]
    },
    {
      "cell_type": "code",
      "metadata": {
        "id": "kGwcdzK5l_uf",
        "colab": {
          "base_uri": "https://localhost:8080/"
        },
        "outputId": "5b278146-39bb-4d76-d0fa-14801801fd7f"
      },
      "source": [
        "print(np.mean(X_train, axis=0))"
      ],
      "execution_count": null,
      "outputs": [
        {
          "output_type": "stream",
          "name": "stdout",
          "text": [
            "[0.524 0.408 0.14  0.83  0.36  0.181 0.239]\n"
          ]
        }
      ]
    },
    {
      "cell_type": "markdown",
      "metadata": {
        "id": "bVfDUqORB7-R"
      },
      "source": [
        "# **2. Κριτήριο αξιολόγησης αποτελεσμάτων**\n",
        "##Συνάρτηση: **Success_Rate**"
      ]
    },
    {
      "cell_type": "code",
      "metadata": {
        "id": "lCqe5MY_B7ZJ"
      },
      "source": [
        "def success_rate(y_test_pred, y_test, N):\n",
        "  successes=0\n",
        "  a = np.absolute(y_test_pred - y_test)\n",
        "  for x in a:\n",
        "    if (np.less_equal(x, N)):\n",
        "      successes = successes + 1\n",
        "\n",
        "  return (successes/np.count_nonzero(a)) * 100"
      ],
      "execution_count": null,
      "outputs": []
    },
    {
      "cell_type": "markdown",
      "metadata": {
        "id": "s0gbQjH7ktCr"
      },
      "source": [
        "# **3. Γραμμικά μοντέλα**\n",
        "\n",
        "## Εκπαίδευση μοντέλου πολλαπλής παλινδρόμησης"
      ]
    },
    {
      "cell_type": "code",
      "metadata": {
        "id": "1HKMhcbbjtgq"
      },
      "source": [
        "from sklearn import linear_model\n",
        "from sklearn.metrics import explained_variance_score\n",
        "\n",
        "# Create linear regression object\n",
        "regr1 = linear_model.LinearRegression()\n",
        "\n",
        "# Train the model using the training sets\n",
        "regr1.fit(X_train, y_train)\n",
        "Abalone_y_pred = regr1.predict(X_test)"
      ],
      "execution_count": null,
      "outputs": []
    },
    {
      "cell_type": "markdown",
      "metadata": {
        "id": "YlHIcg9hnmvY"
      },
      "source": [
        "## Εκτύπωση αποτελεσμάτων πολλαπλής παλινδρόμησης"
      ]
    },
    {
      "cell_type": "code",
      "metadata": {
        "id": "aiyMqi-rnnlC",
        "colab": {
          "base_uri": "https://localhost:8080/",
          "height": 64
        },
        "outputId": "c5b88153-2bd9-4dfd-b7f4-01cb6ac01511"
      },
      "source": [
        "display(Markdown(\n",
        "    \"**Test set explained variance**: {:.2f}\".format(explained_variance_score(y_test, Abalone_y_pred))  + \"<br>\" +\n",
        "    \"**Success Rate**:  {:.2f}\".format(success_rate(Abalone_y_pred, y_test, 1))\n",
        "))"
      ],
      "execution_count": null,
      "outputs": [
        {
          "output_type": "display_data",
          "data": {
            "text/markdown": "**Test set explained variance**: 0.48<br>**Success Rate**:  40.67",
            "text/plain": [
              "<IPython.core.display.Markdown object>"
            ]
          },
          "metadata": {}
        }
      ]
    },
    {
      "cell_type": "markdown",
      "metadata": {
        "id": "nNPz7zD9xUzM"
      },
      "source": [
        "## **Ridge Regularization**"
      ]
    },
    {
      "cell_type": "code",
      "metadata": {
        "id": "hwWSTpTuvzAu"
      },
      "source": [
        "from sklearn.model_selection import GridSearchCV\n",
        "\n",
        "params = { \n",
        "           'alpha': np.logspace(-6, 4, 20) # try 20 values in logarithmic scale from 10^-6 to 10^4\n",
        "         }\n",
        "print(\"alphas: \")\n",
        "print(params['alpha'])\n",
        "\n",
        "regr2 = linear_model.Ridge() \n",
        "grid = GridSearchCV(estimator=regr2, cv = 10, param_grid=params) \n",
        "grid.fit(X_train, y_train) \n",
        "y_train_pred = grid.predict(X_train)\n",
        "y_test_pred = grid.predict(X_test)"
      ],
      "execution_count": null,
      "outputs": []
    },
    {
      "cell_type": "markdown",
      "metadata": {
        "id": "C9Jh0vLDxGPM"
      },
      "source": [
        "## Εκτύπωση αποτελεσμάτων regularized πολλαπλής παλινδρόμησης"
      ]
    },
    {
      "cell_type": "code",
      "metadata": {
        "id": "Yd7XKBx6xbAL"
      },
      "source": [
        "display(Markdown(\n",
        "    \"**Test set explained variance**: {:.2f}\".format(explained_variance_score(y_test, y_test_pred))  + \"<br>\" +\n",
        "    \"**Success Rate**:  {:.2f}\".format(success_rate(y_test_pred, y_test, 1))\n",
        "))"
      ],
      "execution_count": null,
      "outputs": []
    },
    {
      "cell_type": "markdown",
      "metadata": {
        "id": "RFHokdjLzgss"
      },
      "source": [
        "##Εκτύπωση 𝐰 συντελεστών για την πολλαπλή γραμμική παλινδρόμηση και για την regularized πολλαπλή παλινδρόμηση."
      ]
    },
    {
      "cell_type": "code",
      "metadata": {
        "id": "GUUSs8xYz0zq"
      },
      "source": [
        "display(Markdown(\n",
        "    \"### Πολλαπλή Γραμμική Παλινδρόμηση:\\n\" +\n",
        "    \"**Coefficients**: \" + str(regr1.coef_)\n",
        "))\n",
        "\n",
        "display(Markdown(\n",
        "    \"### Regularized Πολλαπλή Παλινδρόμηση: \\n\" +\n",
        "    \"**Coefficients**: \" + str(grid.best_estimator_.coef_)\n",
        "))"
      ],
      "execution_count": null,
      "outputs": []
    },
    {
      "cell_type": "markdown",
      "metadata": {
        "id": "ZzpIVxhil-4Q"
      },
      "source": [
        "# **4. Μη-γραμμικά μοντέλα**\n",
        "\n",
        "##Πολυωνυμική παλινδρόμηση με όλες τις μεταβλητές (2ου βαθμού) \n"
      ]
    },
    {
      "cell_type": "code",
      "metadata": {
        "id": "mcW7HaprMF15"
      },
      "source": [
        "from sklearn.preprocessing import PolynomialFeatures\n",
        "\n",
        "#Create a 2nd degree polynomial model upon which to fit the data\n",
        "polyModel = PolynomialFeatures(degree = 2)\n",
        "X_train_poly = polyModel.fit_transform(X_train)\n",
        "X_test_poly = polyModel.fit_transform(X_test)\n",
        "print(\"Training data shape:\", np.shape(X_train_poly))\n",
        "print(\"Test data shape:\", np.shape(X_test_poly))"
      ],
      "execution_count": null,
      "outputs": []
    },
    {
      "cell_type": "markdown",
      "metadata": {
        "id": "10aX9UGFSKs2"
      },
      "source": [
        "## **Ridge Regularization**"
      ]
    },
    {
      "cell_type": "code",
      "metadata": {
        "id": "ZEt44PBYPC0f"
      },
      "source": [
        "regr = linear_model.Ridge() \n",
        "grid = GridSearchCV(estimator=regr, cv = 10, param_grid=params) \n",
        "grid.fit(X_train_poly, y_train) \n",
        "y_train_pred2 = grid.predict(X_train_poly)\n",
        "y_test_pred2 = grid.predict(X_test_poly)"
      ],
      "execution_count": null,
      "outputs": []
    },
    {
      "cell_type": "markdown",
      "metadata": {
        "id": "zaHYybLmSZ4c"
      },
      "source": [
        "##Συγκρίση των αποτελέσματων με αυτά των γραμμικών μοντέλων"
      ]
    },
    {
      "cell_type": "code",
      "metadata": {
        "id": "XSvRu9qpQM6X"
      },
      "source": [
        "display(Markdown(\n",
        "    \"### Regularized Πολυωνυμική Παλινδρόμηση:\\n\" +\n",
        "    \"**Test set explained variance**: {:.2f}\".format(explained_variance_score(y_test, y_test_pred2))  + \"<br>\" +\n",
        "    \"**Success Rate**:  {:.2f}\".format(success_rate(y_test_pred2, y_test, 1))\n",
        "))\n",
        "\n",
        "display(Markdown(\n",
        "    \"### Regularized Πολλαπλή Παλινδρόμηση:\\n\" +\n",
        "    \"**Test set explained variance**: {:.2f}\".format(explained_variance_score(y_test, y_test_pred))  + \"<br>\" +\n",
        "    \"**Success Rate**:  {:.2f}\".format(success_rate(y_test_pred, y_test, 1))\n",
        "))"
      ],
      "execution_count": null,
      "outputs": []
    },
    {
      "cell_type": "markdown",
      "metadata": {
        "id": "ScFZ6-ZEVzLy"
      },
      "source": [
        "####Κατα την γνώμη μου υπήρξε βελτίωση καθώς το Success Rate απο 39.71 που ήταν στο γραμμικό μοντέλο αυξήθηκε στο 43.06 στο πολυωνυμικό."
      ]
    },
    {
      "cell_type": "markdown",
      "metadata": {
        "id": "lxfrRTN_V-9H"
      },
      "source": [
        "#k Nearest Neighbours Regression."
      ]
    },
    {
      "cell_type": "code",
      "metadata": {
        "id": "YA_WPRV2SmJ9"
      },
      "source": [
        "from sklearn.neighbors import KNeighborsRegressor\n",
        "regr = KNeighborsRegressor()\n",
        "params = { \n",
        "           'n_neighbors': range(1,10),\n",
        "            'weights': ['uniform', 'distance']\n",
        "         }\n",
        "grid = GridSearchCV(estimator=regr, cv = 10, param_grid=params) \n",
        "grid.fit(X_train, y_train) \n",
        "print(grid.best_score_)\n",
        "y_test_pred = grid.predict(X_test)\n",
        "display(Markdown(\n",
        "    \"**k-Nearest Neighbours Regression**: <br>\" +\n",
        "    \"**Best k**: {:.3f}\".format(grid.best_params_['n_neighbors'])  + \"<br>\" +\n",
        "    \"**Best weighting strategy**: \" + grid.best_params_['weights']  + \"<br>\" +\n",
        "    \"**Success Rate**:  {:.2f}\".format(success_rate(y_test_pred, y_test, 1)) + \"<br>\" +\n",
        "    \"**Test set explained variance**: {:.2f}\".format(explained_variance_score(y_test, y_test_pred))\n",
        "))"
      ],
      "execution_count": null,
      "outputs": []
    },
    {
      "cell_type": "markdown",
      "metadata": {
        "id": "gAi4vxoiV-NX"
      },
      "source": [
        "####Τα αποτελέσματα είναι καλύτερα καθώς το Success Rate αυξηθηκε στο 45.45."
      ]
    }
  ]
}