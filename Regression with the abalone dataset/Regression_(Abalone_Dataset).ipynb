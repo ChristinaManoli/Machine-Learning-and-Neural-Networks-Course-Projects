{
  "nbformat": 4,
  "nbformat_minor": 0,
  "metadata": {
    "colab": {
      "provenance": []
    },
    "kernelspec": {
      "name": "python3",
      "display_name": "Python 3"
    },
    "language_info": {
      "name": "python"
    }
  },
  "cells": [
    {
      "cell_type": "markdown",
      "metadata": {
        "id": "IcDdP8EZj08L"
      },
      "source": [
        "#Εργασία 1: **Παλινδρόμηση στο Abalone Dataset**\n",
        "\n",
        "\n",
        "> *Για την παρακάτω εργασια εχω δουλεψει σε Google Colab.*\n",
        "\n"
      ]
    },
    {
      "cell_type": "code",
      "metadata": {
        "id": "8SRay6l30g3g"
      },
      "source": [
        "#Import the basic packages (we will import some more below)\n",
        "from sklearn import datasets # Library for machine learning\n",
        "import numpy as np # Library for math and arrays\n",
        "np.set_printoptions(precision=3) # Tell numpy to print float numbers with 3-decimal precision\n",
        "import matplotlib.pyplot as plt # Library for graphs and plots\n",
        "from IPython.display import display, Markdown"
      ],
      "execution_count": 1,
      "outputs": []
    },
    {
      "cell_type": "markdown",
      "metadata": {
        "id": "aGuF50UZ1eov"
      },
      "source": [
        "#**1. Άνοιγμα αρχείου και προεργασία**\n",
        "\n",
        "##Φόρτωση της Abalone Data Set\n",
        "\n"
      ]
    },
    {
      "cell_type": "code",
      "metadata": {
        "id": "wspw1Jvx1hab",
        "colab": {
          "base_uri": "https://localhost:8080/",
          "height": 74
        },
        "outputId": "5c1a9736-a4f8-4138-dbed-fa63e1812329"
      },
      "source": [
        "#It will prompt you to select a file. Select and upload the file \"abalone.data\".\n",
        "#You should be able to see the name of the file once Colab has uploaded it.\n",
        "from google.colab import files\n",
        "uploaded = files.upload()\n",
        "\n",
        "#χρησιμοποιούμε τη βιβλιοθήκη csv για να χωρίσουμε τα στοιχεία του αρχείου \n",
        "#και να δημιουργήσουμε έτσι μια λίστα, κάθε στοιχείο της οποίας είναι επίσης λίστα, και αντιστοιχεί σε μια γραμμή/αντικείμενο\n",
        "import csv\n",
        "results = []\n",
        "with open('abalone.data') as myfile:\n",
        "  data = csv.reader(myfile, delimiter=',')\n",
        "  for dataline in data:\n",
        "    results.append(dataline)\n",
        "#print(results)\n",
        " \n",
        "\n"
      ],
      "execution_count": 2,
      "outputs": [
        {
          "output_type": "display_data",
          "data": {
            "text/plain": [
              "<IPython.core.display.HTML object>"
            ],
            "text/html": [
              "\n",
              "     <input type=\"file\" id=\"files-0f6acd12-9a30-4fc7-95ef-012fcd8afc8e\" name=\"files[]\" multiple disabled\n",
              "        style=\"border:none\" />\n",
              "     <output id=\"result-0f6acd12-9a30-4fc7-95ef-012fcd8afc8e\">\n",
              "      Upload widget is only available when the cell has been executed in the\n",
              "      current browser session. Please rerun this cell to enable.\n",
              "      </output>\n",
              "      <script>// Copyright 2017 Google LLC\n",
              "//\n",
              "// Licensed under the Apache License, Version 2.0 (the \"License\");\n",
              "// you may not use this file except in compliance with the License.\n",
              "// You may obtain a copy of the License at\n",
              "//\n",
              "//      http://www.apache.org/licenses/LICENSE-2.0\n",
              "//\n",
              "// Unless required by applicable law or agreed to in writing, software\n",
              "// distributed under the License is distributed on an \"AS IS\" BASIS,\n",
              "// WITHOUT WARRANTIES OR CONDITIONS OF ANY KIND, either express or implied.\n",
              "// See the License for the specific language governing permissions and\n",
              "// limitations under the License.\n",
              "\n",
              "/**\n",
              " * @fileoverview Helpers for google.colab Python module.\n",
              " */\n",
              "(function(scope) {\n",
              "function span(text, styleAttributes = {}) {\n",
              "  const element = document.createElement('span');\n",
              "  element.textContent = text;\n",
              "  for (const key of Object.keys(styleAttributes)) {\n",
              "    element.style[key] = styleAttributes[key];\n",
              "  }\n",
              "  return element;\n",
              "}\n",
              "\n",
              "// Max number of bytes which will be uploaded at a time.\n",
              "const MAX_PAYLOAD_SIZE = 100 * 1024;\n",
              "\n",
              "function _uploadFiles(inputId, outputId) {\n",
              "  const steps = uploadFilesStep(inputId, outputId);\n",
              "  const outputElement = document.getElementById(outputId);\n",
              "  // Cache steps on the outputElement to make it available for the next call\n",
              "  // to uploadFilesContinue from Python.\n",
              "  outputElement.steps = steps;\n",
              "\n",
              "  return _uploadFilesContinue(outputId);\n",
              "}\n",
              "\n",
              "// This is roughly an async generator (not supported in the browser yet),\n",
              "// where there are multiple asynchronous steps and the Python side is going\n",
              "// to poll for completion of each step.\n",
              "// This uses a Promise to block the python side on completion of each step,\n",
              "// then passes the result of the previous step as the input to the next step.\n",
              "function _uploadFilesContinue(outputId) {\n",
              "  const outputElement = document.getElementById(outputId);\n",
              "  const steps = outputElement.steps;\n",
              "\n",
              "  const next = steps.next(outputElement.lastPromiseValue);\n",
              "  return Promise.resolve(next.value.promise).then((value) => {\n",
              "    // Cache the last promise value to make it available to the next\n",
              "    // step of the generator.\n",
              "    outputElement.lastPromiseValue = value;\n",
              "    return next.value.response;\n",
              "  });\n",
              "}\n",
              "\n",
              "/**\n",
              " * Generator function which is called between each async step of the upload\n",
              " * process.\n",
              " * @param {string} inputId Element ID of the input file picker element.\n",
              " * @param {string} outputId Element ID of the output display.\n",
              " * @return {!Iterable<!Object>} Iterable of next steps.\n",
              " */\n",
              "function* uploadFilesStep(inputId, outputId) {\n",
              "  const inputElement = document.getElementById(inputId);\n",
              "  inputElement.disabled = false;\n",
              "\n",
              "  const outputElement = document.getElementById(outputId);\n",
              "  outputElement.innerHTML = '';\n",
              "\n",
              "  const pickedPromise = new Promise((resolve) => {\n",
              "    inputElement.addEventListener('change', (e) => {\n",
              "      resolve(e.target.files);\n",
              "    });\n",
              "  });\n",
              "\n",
              "  const cancel = document.createElement('button');\n",
              "  inputElement.parentElement.appendChild(cancel);\n",
              "  cancel.textContent = 'Cancel upload';\n",
              "  const cancelPromise = new Promise((resolve) => {\n",
              "    cancel.onclick = () => {\n",
              "      resolve(null);\n",
              "    };\n",
              "  });\n",
              "\n",
              "  // Wait for the user to pick the files.\n",
              "  const files = yield {\n",
              "    promise: Promise.race([pickedPromise, cancelPromise]),\n",
              "    response: {\n",
              "      action: 'starting',\n",
              "    }\n",
              "  };\n",
              "\n",
              "  cancel.remove();\n",
              "\n",
              "  // Disable the input element since further picks are not allowed.\n",
              "  inputElement.disabled = true;\n",
              "\n",
              "  if (!files) {\n",
              "    return {\n",
              "      response: {\n",
              "        action: 'complete',\n",
              "      }\n",
              "    };\n",
              "  }\n",
              "\n",
              "  for (const file of files) {\n",
              "    const li = document.createElement('li');\n",
              "    li.append(span(file.name, {fontWeight: 'bold'}));\n",
              "    li.append(span(\n",
              "        `(${file.type || 'n/a'}) - ${file.size} bytes, ` +\n",
              "        `last modified: ${\n",
              "            file.lastModifiedDate ? file.lastModifiedDate.toLocaleDateString() :\n",
              "                                    'n/a'} - `));\n",
              "    const percent = span('0% done');\n",
              "    li.appendChild(percent);\n",
              "\n",
              "    outputElement.appendChild(li);\n",
              "\n",
              "    const fileDataPromise = new Promise((resolve) => {\n",
              "      const reader = new FileReader();\n",
              "      reader.onload = (e) => {\n",
              "        resolve(e.target.result);\n",
              "      };\n",
              "      reader.readAsArrayBuffer(file);\n",
              "    });\n",
              "    // Wait for the data to be ready.\n",
              "    let fileData = yield {\n",
              "      promise: fileDataPromise,\n",
              "      response: {\n",
              "        action: 'continue',\n",
              "      }\n",
              "    };\n",
              "\n",
              "    // Use a chunked sending to avoid message size limits. See b/62115660.\n",
              "    let position = 0;\n",
              "    do {\n",
              "      const length = Math.min(fileData.byteLength - position, MAX_PAYLOAD_SIZE);\n",
              "      const chunk = new Uint8Array(fileData, position, length);\n",
              "      position += length;\n",
              "\n",
              "      const base64 = btoa(String.fromCharCode.apply(null, chunk));\n",
              "      yield {\n",
              "        response: {\n",
              "          action: 'append',\n",
              "          file: file.name,\n",
              "          data: base64,\n",
              "        },\n",
              "      };\n",
              "\n",
              "      let percentDone = fileData.byteLength === 0 ?\n",
              "          100 :\n",
              "          Math.round((position / fileData.byteLength) * 100);\n",
              "      percent.textContent = `${percentDone}% done`;\n",
              "\n",
              "    } while (position < fileData.byteLength);\n",
              "  }\n",
              "\n",
              "  // All done.\n",
              "  yield {\n",
              "    response: {\n",
              "      action: 'complete',\n",
              "    }\n",
              "  };\n",
              "}\n",
              "\n",
              "scope.google = scope.google || {};\n",
              "scope.google.colab = scope.google.colab || {};\n",
              "scope.google.colab._files = {\n",
              "  _uploadFiles,\n",
              "  _uploadFilesContinue,\n",
              "};\n",
              "})(self);\n",
              "</script> "
            ]
          },
          "metadata": {}
        },
        {
          "output_type": "stream",
          "name": "stdout",
          "text": [
            "Saving abalone.data to abalone (2).data\n"
          ]
        }
      ]
    },
    {
      "cell_type": "markdown",
      "metadata": {
        "id": "Cnaql525UD4c"
      },
      "source": [
        "## Δημιουργία Χ και Υ πινάκων χρησιμοποιωντας slicing\n"
      ]
    },
    {
      "cell_type": "code",
      "metadata": {
        "id": "pHxh3Q-sT6GE",
        "colab": {
          "base_uri": "https://localhost:8080/",
          "height": 519
        },
        "outputId": "e802aea2-7149-48da-e421-24917b035bce"
      },
      "source": [
        "myArray = np.array(results)\n",
        "Abalone_X, Abalone_Y = myArray[:, 1:8], myArray[:, np.newaxis, -1]\n",
        "\n",
        "Abalone_X = Abalone_X.astype(float)\n",
        "Abalone_Y = Abalone_Y.astype(float)\n",
        "\n",
        "import pandas as pd\n",
        "df = pd.DataFrame(data= np.c_[Abalone_X , Abalone_Y], columns=['Length', 'Diameter', 'Height', 'Whole weight', 'Shucked weight', 'Viscera weight', 'Shell weight', 'Target'])\n",
        "df.head(15)\n"
      ],
      "execution_count": 3,
      "outputs": [
        {
          "output_type": "execute_result",
          "data": {
            "text/plain": [
              "    Length  Diameter  Height  Whole weight  Shucked weight  Viscera weight  \\\n",
              "0    0.455     0.365   0.095        0.5140          0.2245          0.1010   \n",
              "1    0.350     0.265   0.090        0.2255          0.0995          0.0485   \n",
              "2    0.530     0.420   0.135        0.6770          0.2565          0.1415   \n",
              "3    0.440     0.365   0.125        0.5160          0.2155          0.1140   \n",
              "4    0.330     0.255   0.080        0.2050          0.0895          0.0395   \n",
              "5    0.425     0.300   0.095        0.3515          0.1410          0.0775   \n",
              "6    0.530     0.415   0.150        0.7775          0.2370          0.1415   \n",
              "7    0.545     0.425   0.125        0.7680          0.2940          0.1495   \n",
              "8    0.475     0.370   0.125        0.5095          0.2165          0.1125   \n",
              "9    0.550     0.440   0.150        0.8945          0.3145          0.1510   \n",
              "10   0.525     0.380   0.140        0.6065          0.1940          0.1475   \n",
              "11   0.430     0.350   0.110        0.4060          0.1675          0.0810   \n",
              "12   0.490     0.380   0.135        0.5415          0.2175          0.0950   \n",
              "13   0.535     0.405   0.145        0.6845          0.2725          0.1710   \n",
              "14   0.470     0.355   0.100        0.4755          0.1675          0.0805   \n",
              "\n",
              "    Shell weight  Target  \n",
              "0          0.150    15.0  \n",
              "1          0.070     7.0  \n",
              "2          0.210     9.0  \n",
              "3          0.155    10.0  \n",
              "4          0.055     7.0  \n",
              "5          0.120     8.0  \n",
              "6          0.330    20.0  \n",
              "7          0.260    16.0  \n",
              "8          0.165     9.0  \n",
              "9          0.320    19.0  \n",
              "10         0.210    14.0  \n",
              "11         0.135    10.0  \n",
              "12         0.190    11.0  \n",
              "13         0.205    10.0  \n",
              "14         0.185    10.0  "
            ],
            "text/html": [
              "\n",
              "  <div id=\"df-46d11af1-2489-4f6a-9337-24468ca763ed\">\n",
              "    <div class=\"colab-df-container\">\n",
              "      <div>\n",
              "<style scoped>\n",
              "    .dataframe tbody tr th:only-of-type {\n",
              "        vertical-align: middle;\n",
              "    }\n",
              "\n",
              "    .dataframe tbody tr th {\n",
              "        vertical-align: top;\n",
              "    }\n",
              "\n",
              "    .dataframe thead th {\n",
              "        text-align: right;\n",
              "    }\n",
              "</style>\n",
              "<table border=\"1\" class=\"dataframe\">\n",
              "  <thead>\n",
              "    <tr style=\"text-align: right;\">\n",
              "      <th></th>\n",
              "      <th>Length</th>\n",
              "      <th>Diameter</th>\n",
              "      <th>Height</th>\n",
              "      <th>Whole weight</th>\n",
              "      <th>Shucked weight</th>\n",
              "      <th>Viscera weight</th>\n",
              "      <th>Shell weight</th>\n",
              "      <th>Target</th>\n",
              "    </tr>\n",
              "  </thead>\n",
              "  <tbody>\n",
              "    <tr>\n",
              "      <th>0</th>\n",
              "      <td>0.455</td>\n",
              "      <td>0.365</td>\n",
              "      <td>0.095</td>\n",
              "      <td>0.5140</td>\n",
              "      <td>0.2245</td>\n",
              "      <td>0.1010</td>\n",
              "      <td>0.150</td>\n",
              "      <td>15.0</td>\n",
              "    </tr>\n",
              "    <tr>\n",
              "      <th>1</th>\n",
              "      <td>0.350</td>\n",
              "      <td>0.265</td>\n",
              "      <td>0.090</td>\n",
              "      <td>0.2255</td>\n",
              "      <td>0.0995</td>\n",
              "      <td>0.0485</td>\n",
              "      <td>0.070</td>\n",
              "      <td>7.0</td>\n",
              "    </tr>\n",
              "    <tr>\n",
              "      <th>2</th>\n",
              "      <td>0.530</td>\n",
              "      <td>0.420</td>\n",
              "      <td>0.135</td>\n",
              "      <td>0.6770</td>\n",
              "      <td>0.2565</td>\n",
              "      <td>0.1415</td>\n",
              "      <td>0.210</td>\n",
              "      <td>9.0</td>\n",
              "    </tr>\n",
              "    <tr>\n",
              "      <th>3</th>\n",
              "      <td>0.440</td>\n",
              "      <td>0.365</td>\n",
              "      <td>0.125</td>\n",
              "      <td>0.5160</td>\n",
              "      <td>0.2155</td>\n",
              "      <td>0.1140</td>\n",
              "      <td>0.155</td>\n",
              "      <td>10.0</td>\n",
              "    </tr>\n",
              "    <tr>\n",
              "      <th>4</th>\n",
              "      <td>0.330</td>\n",
              "      <td>0.255</td>\n",
              "      <td>0.080</td>\n",
              "      <td>0.2050</td>\n",
              "      <td>0.0895</td>\n",
              "      <td>0.0395</td>\n",
              "      <td>0.055</td>\n",
              "      <td>7.0</td>\n",
              "    </tr>\n",
              "    <tr>\n",
              "      <th>5</th>\n",
              "      <td>0.425</td>\n",
              "      <td>0.300</td>\n",
              "      <td>0.095</td>\n",
              "      <td>0.3515</td>\n",
              "      <td>0.1410</td>\n",
              "      <td>0.0775</td>\n",
              "      <td>0.120</td>\n",
              "      <td>8.0</td>\n",
              "    </tr>\n",
              "    <tr>\n",
              "      <th>6</th>\n",
              "      <td>0.530</td>\n",
              "      <td>0.415</td>\n",
              "      <td>0.150</td>\n",
              "      <td>0.7775</td>\n",
              "      <td>0.2370</td>\n",
              "      <td>0.1415</td>\n",
              "      <td>0.330</td>\n",
              "      <td>20.0</td>\n",
              "    </tr>\n",
              "    <tr>\n",
              "      <th>7</th>\n",
              "      <td>0.545</td>\n",
              "      <td>0.425</td>\n",
              "      <td>0.125</td>\n",
              "      <td>0.7680</td>\n",
              "      <td>0.2940</td>\n",
              "      <td>0.1495</td>\n",
              "      <td>0.260</td>\n",
              "      <td>16.0</td>\n",
              "    </tr>\n",
              "    <tr>\n",
              "      <th>8</th>\n",
              "      <td>0.475</td>\n",
              "      <td>0.370</td>\n",
              "      <td>0.125</td>\n",
              "      <td>0.5095</td>\n",
              "      <td>0.2165</td>\n",
              "      <td>0.1125</td>\n",
              "      <td>0.165</td>\n",
              "      <td>9.0</td>\n",
              "    </tr>\n",
              "    <tr>\n",
              "      <th>9</th>\n",
              "      <td>0.550</td>\n",
              "      <td>0.440</td>\n",
              "      <td>0.150</td>\n",
              "      <td>0.8945</td>\n",
              "      <td>0.3145</td>\n",
              "      <td>0.1510</td>\n",
              "      <td>0.320</td>\n",
              "      <td>19.0</td>\n",
              "    </tr>\n",
              "    <tr>\n",
              "      <th>10</th>\n",
              "      <td>0.525</td>\n",
              "      <td>0.380</td>\n",
              "      <td>0.140</td>\n",
              "      <td>0.6065</td>\n",
              "      <td>0.1940</td>\n",
              "      <td>0.1475</td>\n",
              "      <td>0.210</td>\n",
              "      <td>14.0</td>\n",
              "    </tr>\n",
              "    <tr>\n",
              "      <th>11</th>\n",
              "      <td>0.430</td>\n",
              "      <td>0.350</td>\n",
              "      <td>0.110</td>\n",
              "      <td>0.4060</td>\n",
              "      <td>0.1675</td>\n",
              "      <td>0.0810</td>\n",
              "      <td>0.135</td>\n",
              "      <td>10.0</td>\n",
              "    </tr>\n",
              "    <tr>\n",
              "      <th>12</th>\n",
              "      <td>0.490</td>\n",
              "      <td>0.380</td>\n",
              "      <td>0.135</td>\n",
              "      <td>0.5415</td>\n",
              "      <td>0.2175</td>\n",
              "      <td>0.0950</td>\n",
              "      <td>0.190</td>\n",
              "      <td>11.0</td>\n",
              "    </tr>\n",
              "    <tr>\n",
              "      <th>13</th>\n",
              "      <td>0.535</td>\n",
              "      <td>0.405</td>\n",
              "      <td>0.145</td>\n",
              "      <td>0.6845</td>\n",
              "      <td>0.2725</td>\n",
              "      <td>0.1710</td>\n",
              "      <td>0.205</td>\n",
              "      <td>10.0</td>\n",
              "    </tr>\n",
              "    <tr>\n",
              "      <th>14</th>\n",
              "      <td>0.470</td>\n",
              "      <td>0.355</td>\n",
              "      <td>0.100</td>\n",
              "      <td>0.4755</td>\n",
              "      <td>0.1675</td>\n",
              "      <td>0.0805</td>\n",
              "      <td>0.185</td>\n",
              "      <td>10.0</td>\n",
              "    </tr>\n",
              "  </tbody>\n",
              "</table>\n",
              "</div>\n",
              "      <button class=\"colab-df-convert\" onclick=\"convertToInteractive('df-46d11af1-2489-4f6a-9337-24468ca763ed')\"\n",
              "              title=\"Convert this dataframe to an interactive table.\"\n",
              "              style=\"display:none;\">\n",
              "        \n",
              "  <svg xmlns=\"http://www.w3.org/2000/svg\" height=\"24px\"viewBox=\"0 0 24 24\"\n",
              "       width=\"24px\">\n",
              "    <path d=\"M0 0h24v24H0V0z\" fill=\"none\"/>\n",
              "    <path d=\"M18.56 5.44l.94 2.06.94-2.06 2.06-.94-2.06-.94-.94-2.06-.94 2.06-2.06.94zm-11 1L8.5 8.5l.94-2.06 2.06-.94-2.06-.94L8.5 2.5l-.94 2.06-2.06.94zm10 10l.94 2.06.94-2.06 2.06-.94-2.06-.94-.94-2.06-.94 2.06-2.06.94z\"/><path d=\"M17.41 7.96l-1.37-1.37c-.4-.4-.92-.59-1.43-.59-.52 0-1.04.2-1.43.59L10.3 9.45l-7.72 7.72c-.78.78-.78 2.05 0 2.83L4 21.41c.39.39.9.59 1.41.59.51 0 1.02-.2 1.41-.59l7.78-7.78 2.81-2.81c.8-.78.8-2.07 0-2.86zM5.41 20L4 18.59l7.72-7.72 1.47 1.35L5.41 20z\"/>\n",
              "  </svg>\n",
              "      </button>\n",
              "      \n",
              "  <style>\n",
              "    .colab-df-container {\n",
              "      display:flex;\n",
              "      flex-wrap:wrap;\n",
              "      gap: 12px;\n",
              "    }\n",
              "\n",
              "    .colab-df-convert {\n",
              "      background-color: #E8F0FE;\n",
              "      border: none;\n",
              "      border-radius: 50%;\n",
              "      cursor: pointer;\n",
              "      display: none;\n",
              "      fill: #1967D2;\n",
              "      height: 32px;\n",
              "      padding: 0 0 0 0;\n",
              "      width: 32px;\n",
              "    }\n",
              "\n",
              "    .colab-df-convert:hover {\n",
              "      background-color: #E2EBFA;\n",
              "      box-shadow: 0px 1px 2px rgba(60, 64, 67, 0.3), 0px 1px 3px 1px rgba(60, 64, 67, 0.15);\n",
              "      fill: #174EA6;\n",
              "    }\n",
              "\n",
              "    [theme=dark] .colab-df-convert {\n",
              "      background-color: #3B4455;\n",
              "      fill: #D2E3FC;\n",
              "    }\n",
              "\n",
              "    [theme=dark] .colab-df-convert:hover {\n",
              "      background-color: #434B5C;\n",
              "      box-shadow: 0px 1px 3px 1px rgba(0, 0, 0, 0.15);\n",
              "      filter: drop-shadow(0px 1px 2px rgba(0, 0, 0, 0.3));\n",
              "      fill: #FFFFFF;\n",
              "    }\n",
              "  </style>\n",
              "\n",
              "      <script>\n",
              "        const buttonEl =\n",
              "          document.querySelector('#df-46d11af1-2489-4f6a-9337-24468ca763ed button.colab-df-convert');\n",
              "        buttonEl.style.display =\n",
              "          google.colab.kernel.accessAllowed ? 'block' : 'none';\n",
              "\n",
              "        async function convertToInteractive(key) {\n",
              "          const element = document.querySelector('#df-46d11af1-2489-4f6a-9337-24468ca763ed');\n",
              "          const dataTable =\n",
              "            await google.colab.kernel.invokeFunction('convertToInteractive',\n",
              "                                                     [key], {});\n",
              "          if (!dataTable) return;\n",
              "\n",
              "          const docLinkHtml = 'Like what you see? Visit the ' +\n",
              "            '<a target=\"_blank\" href=https://colab.research.google.com/notebooks/data_table.ipynb>data table notebook</a>'\n",
              "            + ' to learn more about interactive tables.';\n",
              "          element.innerHTML = '';\n",
              "          dataTable['output_type'] = 'display_data';\n",
              "          await google.colab.output.renderOutput(dataTable, element);\n",
              "          const docLink = document.createElement('div');\n",
              "          docLink.innerHTML = docLinkHtml;\n",
              "          element.appendChild(docLink);\n",
              "        }\n",
              "      </script>\n",
              "    </div>\n",
              "  </div>\n",
              "  "
            ]
          },
          "metadata": {},
          "execution_count": 3
        }
      ]
    },
    {
      "cell_type": "markdown",
      "metadata": {
        "id": "PM2e26A-a1jr"
      },
      "source": [
        "## Παρουσίαση των χαρακτηριστικων του dataset όπως προκύπτουν από τους πίνακες X και Υ:\n",
        "Πλήθος αντικειμένων, πλήθος μεταβλητών, εύρος τιμών του y\n",
        "\n",
        "\n"
      ]
    },
    {
      "cell_type": "code",
      "metadata": {
        "id": "acn6avY6a00A",
        "colab": {
          "base_uri": "https://localhost:8080/",
          "height": 81
        },
        "outputId": "0abd49d3-5fd5-4c56-f95e-1092517d1eb2"
      },
      "source": [
        "display(Markdown(\n",
        "    \"**Πλήθος αντικειμένων, Πλήθος μεταβλητών του Χ**: \" + str(np.shape(Abalone_X)) + \"<br>\" +\n",
        "    \"**Πλήθος αντικειμένων, Πλήθος μεταβλητών του Υ**: \"+ str(np.shape(Abalone_Y)) + \"<br>\" +\n",
        "    \"**Εύρος τιμών του Υ** : \" + str(np.max(Abalone_Y) - np.min(Abalone_Y))\n",
        "    ))"
      ],
      "execution_count": 4,
      "outputs": [
        {
          "output_type": "display_data",
          "data": {
            "text/plain": [
              "<IPython.core.display.Markdown object>"
            ],
            "text/markdown": "**Πλήθος αντικειμένων, Πλήθος μεταβλητών του Χ**: (4177, 7)<br>**Πλήθος αντικειμένων, Πλήθος μεταβλητών του Υ**: (4177, 1)<br>**Εύρος τιμών του Υ** : 28.0"
          },
          "metadata": {}
        }
      ]
    },
    {
      "cell_type": "markdown",
      "metadata": {
        "id": "ddg-6T_PBDTh"
      },
      "source": [
        "## Εκτύπωση του μέσου και της τυπικής απόκλισης της κάθε μεταβλητής."
      ]
    },
    {
      "cell_type": "code",
      "metadata": {
        "id": "KOnf0oQhBIAh",
        "colab": {
          "base_uri": "https://localhost:8080/",
          "height": 98
        },
        "outputId": "2667a22f-d5b3-4d9d-8c70-f61aa63a47d4"
      },
      "source": [
        "display(Markdown(\n",
        "    \"**Το Μέσο της κάθε μεταβλητης από τον πίνακα X** : \" + str(np.mean(Abalone_X, axis=0))  + \"<br>\" +\n",
        "    \"**Το Μέσο της κάθε μεταβλητης από τον πίνακα Y** : \" + str(np.mean(Abalone_Y, axis=0))  + \"<br>\" +\n",
        "    \"**Η Τυπική Απόκλιση της κάθε μεταβλητης από τον πίνακα Χ** : \" + str(np.std(Abalone_X,0))  + \"<br>\" +\n",
        "    \"**Η Τυπική Απόκλιση της κάθε μεταβλητης από τον πίνακα Y** : \" + str(np.std(Abalone_Y,0))\n",
        "))"
      ],
      "execution_count": 5,
      "outputs": [
        {
          "output_type": "display_data",
          "data": {
            "text/plain": [
              "<IPython.core.display.Markdown object>"
            ],
            "text/markdown": "**Το Μέσο της κάθε μεταβλητης από τον πίνακα X** : [0.524 0.408 0.14  0.829 0.359 0.181 0.239]<br>**Το Μέσο της κάθε μεταβλητης από τον πίνακα Y** : [9.934]<br>**Η Τυπική Απόκλιση της κάθε μεταβλητης από τον πίνακα Χ** : [0.12  0.099 0.042 0.49  0.222 0.11  0.139]<br>**Η Τυπική Απόκλιση της κάθε μεταβλητης από τον πίνακα Y** : [3.224]"
          },
          "metadata": {}
        }
      ]
    },
    {
      "cell_type": "markdown",
      "metadata": {
        "id": "KXbUVSc7dtF8"
      },
      "source": [
        "##Χωρίζω τα δεδομένα σε training set και test set με seed=5"
      ]
    },
    {
      "cell_type": "code",
      "metadata": {
        "id": "zmDERsmjdrfM"
      },
      "source": [
        "# Split the data randomly (stratified) with a random seed\n",
        "from sklearn.model_selection import train_test_split\n",
        "X_train, X_test, y_train, y_test = train_test_split(\n",
        "    Abalone_X, Abalone_Y, test_size=0.1, random_state=5)\n",
        "\n"
      ],
      "execution_count": 6,
      "outputs": []
    },
    {
      "cell_type": "markdown",
      "metadata": {
        "id": "mQwueuozAWMj"
      },
      "source": [
        "##***Normalization***\n",
        "\n",
        "*The goal of normalization is to to make all the elements lie between 0 and 1 thus bringing all the values of numeric columns in the dataset to a common scale. The Abalone Data Set in my opinion does not require normalization because the mean of the training set is already between 0 and 1.*"
      ]
    },
    {
      "cell_type": "code",
      "metadata": {
        "id": "kGwcdzK5l_uf",
        "colab": {
          "base_uri": "https://localhost:8080/"
        },
        "outputId": "bfde75d4-67db-4abe-be49-a61b1351eec9"
      },
      "source": [
        "print(np.mean(X_train, axis=0))"
      ],
      "execution_count": 7,
      "outputs": [
        {
          "output_type": "stream",
          "name": "stdout",
          "text": [
            "[0.524 0.408 0.14  0.83  0.36  0.181 0.239]\n"
          ]
        }
      ]
    },
    {
      "cell_type": "markdown",
      "metadata": {
        "id": "bVfDUqORB7-R"
      },
      "source": [
        "# **2. Κριτήριο αξιολόγησης αποτελεσμάτων**\n",
        "##Συνάρτηση: **Success_Rate**"
      ]
    },
    {
      "cell_type": "code",
      "metadata": {
        "id": "lCqe5MY_B7ZJ"
      },
      "source": [
        "def success_rate(y_test_pred, y_test, N):\n",
        "  successes=0\n",
        "  a = np.absolute(y_test_pred - y_test)\n",
        "  for x in a:\n",
        "    if (np.less_equal(x, N)):\n",
        "      successes = successes + 1\n",
        "\n",
        "  return (successes/np.count_nonzero(a)) * 100"
      ],
      "execution_count": 8,
      "outputs": []
    },
    {
      "cell_type": "markdown",
      "metadata": {
        "id": "s0gbQjH7ktCr"
      },
      "source": [
        "# **3. Γραμμικά μοντέλα**\n",
        "\n",
        "## Εκπαίδευση μοντέλου πολλαπλής παλινδρόμησης"
      ]
    },
    {
      "cell_type": "code",
      "metadata": {
        "id": "1HKMhcbbjtgq"
      },
      "source": [
        "from sklearn import linear_model\n",
        "from sklearn.metrics import explained_variance_score\n",
        "\n",
        "# Create linear regression object\n",
        "regr1 = linear_model.LinearRegression()\n",
        "\n",
        "# Train the model using the training sets\n",
        "regr1.fit(X_train, y_train)\n",
        "Abalone_y_pred = regr1.predict(X_test)"
      ],
      "execution_count": 9,
      "outputs": []
    },
    {
      "cell_type": "markdown",
      "metadata": {
        "id": "YlHIcg9hnmvY"
      },
      "source": [
        "## Εκτύπωση αποτελεσμάτων πολλαπλής παλινδρόμησης"
      ]
    },
    {
      "cell_type": "code",
      "metadata": {
        "id": "aiyMqi-rnnlC",
        "colab": {
          "base_uri": "https://localhost:8080/",
          "height": 64
        },
        "outputId": "f91880b2-1279-431b-fb2e-e3694a52ff67"
      },
      "source": [
        "display(Markdown(\n",
        "    \"**Test set explained variance**: {:.2f}\".format(explained_variance_score(y_test, Abalone_y_pred))  + \"<br>\" +\n",
        "    \"**Success Rate**:  {:.2f}\".format(success_rate(Abalone_y_pred, y_test, 1))\n",
        "))"
      ],
      "execution_count": 10,
      "outputs": [
        {
          "output_type": "display_data",
          "data": {
            "text/plain": [
              "<IPython.core.display.Markdown object>"
            ],
            "text/markdown": "**Test set explained variance**: 0.48<br>**Success Rate**:  40.67"
          },
          "metadata": {}
        }
      ]
    },
    {
      "cell_type": "markdown",
      "metadata": {
        "id": "nNPz7zD9xUzM"
      },
      "source": [
        "## **Ridge Regularization**"
      ]
    },
    {
      "cell_type": "code",
      "metadata": {
        "id": "hwWSTpTuvzAu",
        "colab": {
          "base_uri": "https://localhost:8080/"
        },
        "outputId": "c4c24d46-8d56-4eec-ca7e-22c6e2003a78"
      },
      "source": [
        "from sklearn.model_selection import GridSearchCV\n",
        "\n",
        "params = { \n",
        "           'alpha': np.logspace(-6, 4, 20) # try 20 values in logarithmic scale from 10^-6 to 10^4\n",
        "         }\n",
        "print(\"alphas: \")\n",
        "print(params['alpha'])\n",
        "\n",
        "regr2 = linear_model.Ridge() \n",
        "grid = GridSearchCV(estimator=regr2, cv = 10, param_grid=params) \n",
        "grid.fit(X_train, y_train) \n",
        "y_train_pred = grid.predict(X_train)\n",
        "y_test_pred = grid.predict(X_test)"
      ],
      "execution_count": 11,
      "outputs": [
        {
          "output_type": "stream",
          "name": "stdout",
          "text": [
            "alphas: \n",
            "[1.000e-06 3.360e-06 1.129e-05 3.793e-05 1.274e-04 4.281e-04 1.438e-03\n",
            " 4.833e-03 1.624e-02 5.456e-02 1.833e-01 6.158e-01 2.069e+00 6.952e+00\n",
            " 2.336e+01 7.848e+01 2.637e+02 8.859e+02 2.976e+03 1.000e+04]\n"
          ]
        }
      ]
    },
    {
      "cell_type": "markdown",
      "metadata": {
        "id": "C9Jh0vLDxGPM"
      },
      "source": [
        "## Εκτύπωση αποτελεσμάτων regularized πολλαπλής παλινδρόμησης"
      ]
    },
    {
      "cell_type": "code",
      "metadata": {
        "id": "Yd7XKBx6xbAL",
        "colab": {
          "base_uri": "https://localhost:8080/",
          "height": 64
        },
        "outputId": "83e89d49-2341-4d84-a0fe-36ec18d35554"
      },
      "source": [
        "display(Markdown(\n",
        "    \"**Test set explained variance**: {:.2f}\".format(explained_variance_score(y_test, y_test_pred))  + \"<br>\" +\n",
        "    \"**Success Rate**:  {:.2f}\".format(success_rate(y_test_pred, y_test, 1))\n",
        "))"
      ],
      "execution_count": 12,
      "outputs": [
        {
          "output_type": "display_data",
          "data": {
            "text/plain": [
              "<IPython.core.display.Markdown object>"
            ],
            "text/markdown": "**Test set explained variance**: 0.47<br>**Success Rate**:  39.71"
          },
          "metadata": {}
        }
      ]
    },
    {
      "cell_type": "markdown",
      "metadata": {
        "id": "RFHokdjLzgss"
      },
      "source": [
        "##Εκτύπωση 𝐰 συντελεστών για την πολλαπλή γραμμική παλινδρόμηση και για την regularized πολλαπλή παλινδρόμηση."
      ]
    },
    {
      "cell_type": "code",
      "metadata": {
        "id": "GUUSs8xYz0zq",
        "colab": {
          "base_uri": "https://localhost:8080/",
          "height": 143
        },
        "outputId": "0acc91fc-f519-4026-e119-1df20ddf85a8"
      },
      "source": [
        "display(Markdown(\n",
        "    \"### Πολλαπλή Γραμμική Παλινδρόμηση:\\n\" +\n",
        "    \"**Coefficients**: \" + str(regr1.coef_)\n",
        "))\n",
        "\n",
        "display(Markdown(\n",
        "    \"### Regularized Πολλαπλή Παλινδρόμηση: \\n\" +\n",
        "    \"**Coefficients**: \" + str(grid.best_estimator_.coef_)\n",
        "))"
      ],
      "execution_count": 13,
      "outputs": [
        {
          "output_type": "display_data",
          "data": {
            "text/plain": [
              "<IPython.core.display.Markdown object>"
            ],
            "text/markdown": "### Πολλαπλή Γραμμική Παλινδρόμηση:\n**Coefficients**: [[ -0.597  12.417  10.648   9.04  -19.784 -10.076   9.177]]"
          },
          "metadata": {}
        },
        {
          "output_type": "display_data",
          "data": {
            "text/plain": [
              "<IPython.core.display.Markdown object>"
            ],
            "text/markdown": "### Regularized Πολλαπλή Παλινδρόμηση: \n**Coefficients**: [[  2.174   8.693   8.692   7.641 -18.18   -7.615  10.518]]"
          },
          "metadata": {}
        }
      ]
    },
    {
      "cell_type": "markdown",
      "metadata": {
        "id": "ZzpIVxhil-4Q"
      },
      "source": [
        "# **4. Μη-γραμμικά μοντέλα**\n",
        "\n",
        "##Πολυωνυμική παλινδρόμηση με όλες τις μεταβλητές (2ου βαθμού) \n"
      ]
    },
    {
      "cell_type": "code",
      "metadata": {
        "id": "mcW7HaprMF15",
        "colab": {
          "base_uri": "https://localhost:8080/"
        },
        "outputId": "e521783f-0c92-4da5-f154-9a9da45ce049"
      },
      "source": [
        "from sklearn.preprocessing import PolynomialFeatures\n",
        "\n",
        "#Create a 2nd degree polynomial model upon which to fit the data\n",
        "polyModel = PolynomialFeatures(degree = 2)\n",
        "X_train_poly = polyModel.fit_transform(X_train)\n",
        "X_test_poly = polyModel.fit_transform(X_test)\n",
        "print(\"Training data shape:\", np.shape(X_train_poly))\n",
        "print(\"Test data shape:\", np.shape(X_test_poly))"
      ],
      "execution_count": 14,
      "outputs": [
        {
          "output_type": "stream",
          "name": "stdout",
          "text": [
            "Training data shape: (3759, 36)\n",
            "Test data shape: (418, 36)\n"
          ]
        }
      ]
    },
    {
      "cell_type": "markdown",
      "metadata": {
        "id": "10aX9UGFSKs2"
      },
      "source": [
        "## **Ridge Regularization**"
      ]
    },
    {
      "cell_type": "code",
      "metadata": {
        "id": "ZEt44PBYPC0f"
      },
      "source": [
        "regr = linear_model.Ridge() \n",
        "grid = GridSearchCV(estimator=regr, cv = 10, param_grid=params) \n",
        "grid.fit(X_train_poly, y_train) \n",
        "y_train_pred2 = grid.predict(X_train_poly)\n",
        "y_test_pred2 = grid.predict(X_test_poly)"
      ],
      "execution_count": 15,
      "outputs": []
    },
    {
      "cell_type": "markdown",
      "metadata": {
        "id": "zaHYybLmSZ4c"
      },
      "source": [
        "##Συγκρίση των αποτελέσματων με αυτά των γραμμικών μοντέλων"
      ]
    },
    {
      "cell_type": "code",
      "metadata": {
        "id": "XSvRu9qpQM6X",
        "colab": {
          "base_uri": "https://localhost:8080/",
          "height": 178
        },
        "outputId": "ba3efce8-c197-4bc3-c85c-685d399f2160"
      },
      "source": [
        "display(Markdown(\n",
        "    \"### Regularized Πολυωνυμική Παλινδρόμηση:\\n\" +\n",
        "    \"**Test set explained variance**: {:.2f}\".format(explained_variance_score(y_test, y_test_pred2))  + \"<br>\" +\n",
        "    \"**Success Rate**:  {:.2f}\".format(success_rate(y_test_pred2, y_test, 1))\n",
        "))\n",
        "\n",
        "display(Markdown(\n",
        "    \"### Regularized Πολλαπλή Παλινδρόμηση:\\n\" +\n",
        "    \"**Test set explained variance**: {:.2f}\".format(explained_variance_score(y_test, y_test_pred))  + \"<br>\" +\n",
        "    \"**Success Rate**:  {:.2f}\".format(success_rate(y_test_pred, y_test, 1))\n",
        "))"
      ],
      "execution_count": 16,
      "outputs": [
        {
          "output_type": "display_data",
          "data": {
            "text/plain": [
              "<IPython.core.display.Markdown object>"
            ],
            "text/markdown": "### Regularized Πολυωνυμική Παλινδρόμηση:\n**Test set explained variance**: 0.53<br>**Success Rate**:  43.06"
          },
          "metadata": {}
        },
        {
          "output_type": "display_data",
          "data": {
            "text/plain": [
              "<IPython.core.display.Markdown object>"
            ],
            "text/markdown": "### Regularized Πολλαπλή Παλινδρόμηση:\n**Test set explained variance**: 0.47<br>**Success Rate**:  39.71"
          },
          "metadata": {}
        }
      ]
    },
    {
      "cell_type": "markdown",
      "metadata": {
        "id": "ScFZ6-ZEVzLy"
      },
      "source": [
        "####Κατα την γνώμη μου υπήρξε βελτίωση καθώς το Success Rate απο 39.71 που ήταν στο γραμμικό μοντέλο αυξήθηκε στο 43.06 στο πολυωνυμικό."
      ]
    },
    {
      "cell_type": "markdown",
      "metadata": {
        "id": "lxfrRTN_V-9H"
      },
      "source": [
        "#k Nearest Neighbours Regression."
      ]
    },
    {
      "cell_type": "code",
      "metadata": {
        "id": "YA_WPRV2SmJ9",
        "colab": {
          "base_uri": "https://localhost:8080/",
          "height": 134
        },
        "outputId": "b7203327-213e-4f8b-efb8-b8b0f3f397a0"
      },
      "source": [
        "from sklearn.neighbors import KNeighborsRegressor\n",
        "regr = KNeighborsRegressor()\n",
        "params = { \n",
        "           'n_neighbors': range(1,10),\n",
        "            'weights': ['uniform', 'distance']\n",
        "         }\n",
        "grid = GridSearchCV(estimator=regr, cv = 10, param_grid=params) \n",
        "grid.fit(X_train, y_train) \n",
        "print(grid.best_score_)\n",
        "y_test_pred = grid.predict(X_test)\n",
        "display(Markdown(\n",
        "    \"**k-Nearest Neighbours Regression**: <br>\" +\n",
        "    \"**Best k**: {:.3f}\".format(grid.best_params_['n_neighbors'])  + \"<br>\" +\n",
        "    \"**Best weighting strategy**: \" + grid.best_params_['weights']  + \"<br>\" +\n",
        "    \"**Success Rate**:  {:.2f}\".format(success_rate(y_test_pred, y_test, 1)) + \"<br>\" +\n",
        "    \"**Test set explained variance**: {:.2f}\".format(explained_variance_score(y_test, y_test_pred))\n",
        "))"
      ],
      "execution_count": 17,
      "outputs": [
        {
          "output_type": "stream",
          "name": "stdout",
          "text": [
            "0.5340870108664669\n"
          ]
        },
        {
          "output_type": "display_data",
          "data": {
            "text/plain": [
              "<IPython.core.display.Markdown object>"
            ],
            "text/markdown": "**k-Nearest Neighbours Regression**: <br>**Best k**: 9.000<br>**Best weighting strategy**: distance<br>**Success Rate**:  45.45<br>**Test set explained variance**: 0.53"
          },
          "metadata": {}
        }
      ]
    },
    {
      "cell_type": "markdown",
      "metadata": {
        "id": "gAi4vxoiV-NX"
      },
      "source": [
        "####Τα αποτελέσματα είναι καλύτερα καθώς το Success Rate αυξηθηκε στο 45.45."
      ]
    }
  ]
}